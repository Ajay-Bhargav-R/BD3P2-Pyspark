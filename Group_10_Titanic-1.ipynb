{
  "cells": [
    {
      "cell_type": "markdown",
      "id": "bf416f5c",
      "metadata": {
        "id": "bf416f5c"
      },
      "source": [
        "<font size='6'>BD3P2 - Pyspark ETL Assignment</font>  \n",
        "<font size='5'>GROUP-10</font>  \n",
        "<font size='3'><b>Dataset:</b> Titanic - db table</font>  \n",
        "\n",
        "<b>i.Extract: Load the data</b>  \n",
        "     - Read data as pandas dataframe   \n",
        "     - then create spark dataframe   \n",
        "     - create a table view \"titanic\" as spark SQL  \n",
        "<b>ii.Transform: Exploratory data analysis using spark df</b>  \n",
        "     - Unique passengerId count  \n",
        "     - GroupBy sex and count of survived  \n",
        "     - GroupBy Pclass and sum of Fare  \n",
        "     - Update column age values as 1,2,3 ->child<10,teen>10 to <25,adult>25  \n",
        "     - GroupBy age,Embarked,Pclass and count of survived  \n",
        "<b>iii.Load: Save analysis report</b>  \n",
        "     - save as tables - partitioned by sex"
      ]
    },
    {
      "cell_type": "markdown",
      "id": "971556bf",
      "metadata": {
        "id": "971556bf"
      },
      "source": [
        "<font size='4'><b>i. Extract: Load the data</b></font>"
      ]
    },
    {
      "cell_type": "markdown",
      "id": "584a9e7f",
      "metadata": {
        "id": "584a9e7f"
      },
      "source": [
        "<font size='4'>a. Read data as pandas dataframe</font>"
      ]
    },
    {
      "cell_type": "code",
      "execution_count": null,
      "id": "27a23530",
      "metadata": {
        "id": "27a23530"
      },
      "outputs": [],
      "source": [
        "from random import random\n",
        "import os\n",
        "from pyspark.sql import SparkSession\n",
        "from pyspark.sql.functions import regexp_replace, col\n",
        "from pyspark.sql.types import IntegerType, StringType\n",
        "from pyspark.sql import SQLContext\n",
        "import pandas as pd"
      ]
    },
    {
      "cell_type": "code",
      "execution_count": null,
      "id": "804cb078",
      "metadata": {
        "id": "804cb078"
      },
      "outputs": [],
      "source": [
        "df_path = 'C:/Users/Jerome/Downloads/pyspark_data/titanic.csv'\n",
        "data = pd.read_csv(df_path)"
      ]
    },
    {
      "cell_type": "code",
      "execution_count": null,
      "id": "0f56653f",
      "metadata": {
        "id": "0f56653f",
        "outputId": "9604c3e2-0a25-477d-8eea-86bdcb236604"
      },
      "outputs": [
        {
          "name": "stdout",
          "output_type": "stream",
          "text": [
            "     PassengerId  Survived  Pclass  \\\n",
            "0              1         0       3   \n",
            "1              2         1       1   \n",
            "2              3         1       3   \n",
            "3              4         1       1   \n",
            "4              5         0       3   \n",
            "..           ...       ...     ...   \n",
            "886          887         0       2   \n",
            "887          888         1       1   \n",
            "888          889         0       3   \n",
            "889          890         1       1   \n",
            "890          891         0       3   \n",
            "\n",
            "                                                  Name     Sex   Age  SibSp  \\\n",
            "0                              Braund, Mr. Owen Harris    male  22.0      1   \n",
            "1    Cumings, Mrs. John Bradley (Florence Briggs Th...  female  38.0      1   \n",
            "2                               Heikkinen, Miss. Laina  female  26.0      0   \n",
            "3         Futrelle, Mrs. Jacques Heath (Lily May Peel)  female  35.0      1   \n",
            "4                             Allen, Mr. William Henry    male  35.0      0   \n",
            "..                                                 ...     ...   ...    ...   \n",
            "886                              Montvila, Rev. Juozas    male  27.0      0   \n",
            "887                       Graham, Miss. Margaret Edith  female  19.0      0   \n",
            "888           Johnston, Miss. Catherine Helen \"Carrie\"  female   NaN      1   \n",
            "889                              Behr, Mr. Karl Howell    male  26.0      0   \n",
            "890                                Dooley, Mr. Patrick    male  32.0      0   \n",
            "\n",
            "     Parch            Ticket     Fare Cabin Embarked  \n",
            "0        0         A/5 21171   7.2500   NaN        S  \n",
            "1        0          PC 17599  71.2833   C85        C  \n",
            "2        0  STON/O2. 3101282   7.9250   NaN        S  \n",
            "3        0            113803  53.1000  C123        S  \n",
            "4        0            373450   8.0500   NaN        S  \n",
            "..     ...               ...      ...   ...      ...  \n",
            "886      0            211536  13.0000   NaN        S  \n",
            "887      0            112053  30.0000   B42        S  \n",
            "888      2        W./C. 6607  23.4500   NaN        S  \n",
            "889      0            111369  30.0000  C148        C  \n",
            "890      0            370376   7.7500   NaN        Q  \n",
            "\n",
            "[891 rows x 12 columns]\n"
          ]
        }
      ],
      "source": [
        "print(data)"
      ]
    },
    {
      "cell_type": "code",
      "execution_count": null,
      "id": "53a817a0",
      "metadata": {
        "id": "53a817a0"
      },
      "outputs": [],
      "source": [
        "os.environ['PYSPARK SUBMIT ARGS'] = \" --master local[2] pyspark-shell\"\n",
        "os.environ['JAVA_HOME'] = 'C:/Program Files/Java/jdk1.8.0_311'"
      ]
    },
    {
      "cell_type": "markdown",
      "id": "3808472f",
      "metadata": {
        "id": "3808472f"
      },
      "source": [
        "<font size='4'>b. Creating spark dataframe</font>"
      ]
    },
    {
      "cell_type": "code",
      "execution_count": null,
      "id": "88ddb983",
      "metadata": {
        "id": "88ddb983"
      },
      "outputs": [],
      "source": [
        "#Creating a spark Session\n",
        "spark_session = SparkSession.builder.master('local').appName('titanic_csv').getOrCreate()\n",
        "sc = spark_session.sparkContext"
      ]
    },
    {
      "cell_type": "code",
      "execution_count": null,
      "id": "6cf6951b",
      "metadata": {
        "id": "6cf6951b"
      },
      "outputs": [],
      "source": [
        "titanic_data = spark_session.read.csv(df_path ,sep=',',inferSchema=True, header=True ,nullValue='')"
      ]
    },
    {
      "cell_type": "code",
      "execution_count": null,
      "id": "8af6c4cd",
      "metadata": {
        "id": "8af6c4cd",
        "outputId": "a807743d-3f6f-46e5-95df-b1b6a5cb35c8"
      },
      "outputs": [
        {
          "name": "stdout",
          "output_type": "stream",
          "text": [
            "DataFrame[PassengerId: int, Survived: int, Pclass: int, Name: string, Sex: string, Age: double, SibSp: int, Parch: int, Ticket: string, Fare: double, Cabin: string, Embarked: string]\n"
          ]
        }
      ],
      "source": [
        "print(titanic_data)"
      ]
    },
    {
      "cell_type": "code",
      "execution_count": null,
      "id": "9a7016b6",
      "metadata": {
        "id": "9a7016b6",
        "outputId": "d2f045e2-ac3c-4b29-e33c-f8de0c94d742"
      },
      "outputs": [
        {
          "name": "stdout",
          "output_type": "stream",
          "text": [
            "+-----------+--------+------+--------------------+------+----+-----+-----+----------------+-------+-----+--------+\n",
            "|PassengerId|Survived|Pclass|                Name|   Sex| Age|SibSp|Parch|          Ticket|   Fare|Cabin|Embarked|\n",
            "+-----------+--------+------+--------------------+------+----+-----+-----+----------------+-------+-----+--------+\n",
            "|          1|       0|     3|Braund, Mr. Owen ...|  male|22.0|    1|    0|       A/5 21171|   7.25| null|       S|\n",
            "|          2|       1|     1|Cumings, Mrs. Joh...|female|38.0|    1|    0|        PC 17599|71.2833|  C85|       C|\n",
            "|          3|       1|     3|Heikkinen, Miss. ...|female|26.0|    0|    0|STON/O2. 3101282|  7.925| null|       S|\n",
            "|          4|       1|     1|Futrelle, Mrs. Ja...|female|35.0|    1|    0|          113803|   53.1| C123|       S|\n",
            "|          5|       0|     3|Allen, Mr. Willia...|  male|35.0|    0|    0|          373450|   8.05| null|       S|\n",
            "|          6|       0|     3|    Moran, Mr. James|  male|null|    0|    0|          330877| 8.4583| null|       Q|\n",
            "|          7|       0|     1|McCarthy, Mr. Tim...|  male|54.0|    0|    0|           17463|51.8625|  E46|       S|\n",
            "|          8|       0|     3|Palsson, Master. ...|  male| 2.0|    3|    1|          349909| 21.075| null|       S|\n",
            "|          9|       1|     3|Johnson, Mrs. Osc...|female|27.0|    0|    2|          347742|11.1333| null|       S|\n",
            "|         10|       1|     2|Nasser, Mrs. Nich...|female|14.0|    1|    0|          237736|30.0708| null|       C|\n",
            "|         11|       1|     3|Sandstrom, Miss. ...|female| 4.0|    1|    1|         PP 9549|   16.7|   G6|       S|\n",
            "|         12|       1|     1|Bonnell, Miss. El...|female|58.0|    0|    0|          113783|  26.55| C103|       S|\n",
            "|         13|       0|     3|Saundercock, Mr. ...|  male|20.0|    0|    0|       A/5. 2151|   8.05| null|       S|\n",
            "|         14|       0|     3|Andersson, Mr. An...|  male|39.0|    1|    5|          347082| 31.275| null|       S|\n",
            "|         15|       0|     3|Vestrom, Miss. Hu...|female|14.0|    0|    0|          350406| 7.8542| null|       S|\n",
            "|         16|       1|     2|Hewlett, Mrs. (Ma...|female|55.0|    0|    0|          248706|   16.0| null|       S|\n",
            "|         17|       0|     3|Rice, Master. Eugene|  male| 2.0|    4|    1|          382652| 29.125| null|       Q|\n",
            "|         18|       1|     2|Williams, Mr. Cha...|  male|null|    0|    0|          244373|   13.0| null|       S|\n",
            "|         19|       0|     3|Vander Planke, Mr...|female|31.0|    1|    0|          345763|   18.0| null|       S|\n",
            "|         20|       1|     3|Masselmani, Mrs. ...|female|null|    0|    0|            2649|  7.225| null|       C|\n",
            "+-----------+--------+------+--------------------+------+----+-----+-----+----------------+-------+-----+--------+\n",
            "only showing top 20 rows\n",
            "\n",
            "None\n"
          ]
        }
      ],
      "source": [
        "print(titanic_data.show())"
      ]
    },
    {
      "cell_type": "code",
      "execution_count": null,
      "id": "62c9b63b",
      "metadata": {
        "id": "62c9b63b",
        "outputId": "543b1441-724f-4047-f085-12c70514610c"
      },
      "outputs": [
        {
          "name": "stdout",
          "output_type": "stream",
          "text": [
            "root\n",
            " |-- PassengerId: integer (nullable = true)\n",
            " |-- Survived: integer (nullable = true)\n",
            " |-- Pclass: integer (nullable = true)\n",
            " |-- Name: string (nullable = true)\n",
            " |-- Sex: string (nullable = true)\n",
            " |-- Age: double (nullable = true)\n",
            " |-- SibSp: integer (nullable = true)\n",
            " |-- Parch: integer (nullable = true)\n",
            " |-- Ticket: string (nullable = true)\n",
            " |-- Fare: double (nullable = true)\n",
            " |-- Cabin: string (nullable = true)\n",
            " |-- Embarked: string (nullable = true)\n",
            "\n"
          ]
        }
      ],
      "source": [
        "titanic_data.printSchema()"
      ]
    },
    {
      "cell_type": "code",
      "execution_count": null,
      "id": "8076a5fc",
      "metadata": {
        "id": "8076a5fc",
        "outputId": "ea71b346-feea-4170-dcda-b489b9bc59cb"
      },
      "outputs": [
        {
          "name": "stdout",
          "output_type": "stream",
          "text": [
            "+-------+-----------------+-------------------+------------------+--------------------+------+------------------+------------------+-------------------+------------------+-----------------+-----+--------+\n",
            "|summary|      PassengerId|           Survived|            Pclass|                Name|   Sex|               Age|             SibSp|              Parch|            Ticket|             Fare|Cabin|Embarked|\n",
            "+-------+-----------------+-------------------+------------------+--------------------+------+------------------+------------------+-------------------+------------------+-----------------+-----+--------+\n",
            "|  count|              891|                891|               891|                 891|   891|               714|               891|                891|               891|              891|  204|     889|\n",
            "|   mean|            446.0| 0.3838383838383838| 2.308641975308642|                null|  null| 29.69911764705882|0.5230078563411896|0.38159371492704824|260318.54916792738| 32.2042079685746| null|    null|\n",
            "| stddev|257.3538420152301|0.48659245426485753|0.8360712409770491|                null|  null|14.526497332334035|1.1027434322934315| 0.8060572211299488|471609.26868834975|49.69342859718089| null|    null|\n",
            "|    min|                1|                  0|                 1|\"Andersson, Mr. A...|female|              0.42|                 0|                  0|            110152|              0.0|  A10|       C|\n",
            "|    max|              891|                  1|                 3|van Melkebeke, Mr...|  male|              80.0|                 8|                  6|         WE/P 5735|         512.3292|    T|       S|\n",
            "+-------+-----------------+-------------------+------------------+--------------------+------+------------------+------------------+-------------------+------------------+-----------------+-----+--------+\n",
            "\n"
          ]
        }
      ],
      "source": [
        "titanic_data.describe().show()"
      ]
    },
    {
      "cell_type": "markdown",
      "id": "4dcd5a93",
      "metadata": {
        "id": "4dcd5a93"
      },
      "source": [
        "<font size='4'>c. Create a table view \"titanic\" as spark SQL</font>"
      ]
    },
    {
      "cell_type": "code",
      "execution_count": null,
      "id": "6981146c",
      "metadata": {
        "id": "6981146c",
        "outputId": "0ab6e100-bca3-4676-9b4d-33e49e84a5ab"
      },
      "outputs": [
        {
          "name": "stderr",
          "output_type": "stream",
          "text": [
            "C:\\Users\\Jerome\\anaconda3\\lib\\site-packages\\pyspark\\sql\\context.py:77: FutureWarning: Deprecated in 3.0.0. Use SparkSession.builder.getOrCreate() instead.\n",
            "  warnings.warn(\n"
          ]
        }
      ],
      "source": [
        "sqlContext = SQLContext(sc)\n",
        "sqlContext.registerDataFrameAsTable(titanic_data, \"titanic_table\")"
      ]
    },
    {
      "cell_type": "code",
      "execution_count": null,
      "id": "08be468e",
      "metadata": {
        "id": "08be468e",
        "outputId": "8f26eeaa-d949-4177-cf2a-9b96e8e5147c"
      },
      "outputs": [
        {
          "data": {
            "text/plain": [
              "DataFrame[PassengerId: int, Survived: int, Pclass: int, Name: string, Sex: string, Age: double, SibSp: int, Parch: int, Ticket: string, Fare: double, Cabin: string, Embarked: string]"
            ]
          },
          "execution_count": 16,
          "metadata": {},
          "output_type": "execute_result"
        }
      ],
      "source": [
        "# Using query show table\n",
        "sqlContext.sql(\"SELECT * FROM titanic_table \")"
      ]
    },
    {
      "cell_type": "code",
      "execution_count": null,
      "id": "fb78d866",
      "metadata": {
        "id": "fb78d866",
        "outputId": "267ad4e4-7634-40ce-b263-1beb070ed4b6"
      },
      "outputs": [
        {
          "name": "stdout",
          "output_type": "stream",
          "text": [
            "+-----------+--------+------+--------------------+------+----+-----+-----+----------------+-------+-----+--------+\n",
            "|PassengerId|Survived|Pclass|                Name|   Sex| Age|SibSp|Parch|          Ticket|   Fare|Cabin|Embarked|\n",
            "+-----------+--------+------+--------------------+------+----+-----+-----+----------------+-------+-----+--------+\n",
            "|          1|       0|     3|Braund, Mr. Owen ...|  male|22.0|    1|    0|       A/5 21171|   7.25| null|       S|\n",
            "|          2|       1|     1|Cumings, Mrs. Joh...|female|38.0|    1|    0|        PC 17599|71.2833|  C85|       C|\n",
            "|          3|       1|     3|Heikkinen, Miss. ...|female|26.0|    0|    0|STON/O2. 3101282|  7.925| null|       S|\n",
            "|          4|       1|     1|Futrelle, Mrs. Ja...|female|35.0|    1|    0|          113803|   53.1| C123|       S|\n",
            "|          5|       0|     3|Allen, Mr. Willia...|  male|35.0|    0|    0|          373450|   8.05| null|       S|\n",
            "|          6|       0|     3|    Moran, Mr. James|  male|null|    0|    0|          330877| 8.4583| null|       Q|\n",
            "|          7|       0|     1|McCarthy, Mr. Tim...|  male|54.0|    0|    0|           17463|51.8625|  E46|       S|\n",
            "|          8|       0|     3|Palsson, Master. ...|  male| 2.0|    3|    1|          349909| 21.075| null|       S|\n",
            "|          9|       1|     3|Johnson, Mrs. Osc...|female|27.0|    0|    2|          347742|11.1333| null|       S|\n",
            "|         10|       1|     2|Nasser, Mrs. Nich...|female|14.0|    1|    0|          237736|30.0708| null|       C|\n",
            "|         11|       1|     3|Sandstrom, Miss. ...|female| 4.0|    1|    1|         PP 9549|   16.7|   G6|       S|\n",
            "|         12|       1|     1|Bonnell, Miss. El...|female|58.0|    0|    0|          113783|  26.55| C103|       S|\n",
            "|         13|       0|     3|Saundercock, Mr. ...|  male|20.0|    0|    0|       A/5. 2151|   8.05| null|       S|\n",
            "|         14|       0|     3|Andersson, Mr. An...|  male|39.0|    1|    5|          347082| 31.275| null|       S|\n",
            "|         15|       0|     3|Vestrom, Miss. Hu...|female|14.0|    0|    0|          350406| 7.8542| null|       S|\n",
            "|         16|       1|     2|Hewlett, Mrs. (Ma...|female|55.0|    0|    0|          248706|   16.0| null|       S|\n",
            "|         17|       0|     3|Rice, Master. Eugene|  male| 2.0|    4|    1|          382652| 29.125| null|       Q|\n",
            "|         18|       1|     2|Williams, Mr. Cha...|  male|null|    0|    0|          244373|   13.0| null|       S|\n",
            "|         19|       0|     3|Vander Planke, Mr...|female|31.0|    1|    0|          345763|   18.0| null|       S|\n",
            "|         20|       1|     3|Masselmani, Mrs. ...|female|null|    0|    0|            2649|  7.225| null|       C|\n",
            "+-----------+--------+------+--------------------+------+----+-----+-----+----------------+-------+-----+--------+\n",
            "only showing top 20 rows\n",
            "\n"
          ]
        }
      ],
      "source": [
        "# Using query show spark netflix data\n",
        "titanic = sqlContext.sql(\"SELECT * FROM titanic_table \")\n",
        "titanic.show()"
      ]
    },
    {
      "cell_type": "markdown",
      "id": "781292b8",
      "metadata": {
        "id": "781292b8"
      },
      "source": [
        "<font size='4'><b>ii.Transform: Exploratory data analysis using spark df</b></font>"
      ]
    },
    {
      "cell_type": "markdown",
      "id": "70a8a4a6",
      "metadata": {
        "id": "70a8a4a6"
      },
      "source": [
        "<font size='4'>Unique passengerId count</font>"
      ]
    },
    {
      "cell_type": "code",
      "execution_count": null,
      "id": "493e8661",
      "metadata": {
        "id": "493e8661",
        "outputId": "42b24424-4242-4dc4-ff5e-8ef8666d45bd"
      },
      "outputs": [
        {
          "name": "stdout",
          "output_type": "stream",
          "text": [
            "+-----+\n",
            "|Total|\n",
            "+-----+\n",
            "|  891|\n",
            "+-----+\n",
            "\n"
          ]
        }
      ],
      "source": [
        "Unique_Id_count = sqlContext.sql(\"select distinct count(PassengerId) as Total from titanic_table\")\n",
        "Unique_Id_count.show()"
      ]
    },
    {
      "cell_type": "code",
      "execution_count": null,
      "id": "bdc879eb",
      "metadata": {
        "id": "bdc879eb",
        "outputId": "554a52fe-edf5-41f0-be91-2b3322ffaa58"
      },
      "outputs": [
        {
          "data": {
            "text/plain": [
              "891"
            ]
          },
          "execution_count": 20,
          "metadata": {},
          "output_type": "execute_result"
        }
      ],
      "source": [
        "#Distinct count through spark dataframe\n",
        "titanic.distinct().count()"
      ]
    },
    {
      "cell_type": "markdown",
      "id": "0afc8dbc",
      "metadata": {
        "id": "0afc8dbc"
      },
      "source": [
        "<font size='4'>GroupBy sex and count of survived</font>"
      ]
    },
    {
      "cell_type": "code",
      "execution_count": null,
      "id": "f752893c",
      "metadata": {
        "id": "f752893c",
        "outputId": "ade16381-be8a-4306-82a4-d1985e95b7ce"
      },
      "outputs": [
        {
          "name": "stdout",
          "output_type": "stream",
          "text": [
            "+------+-----+\n",
            "|   Sex|count|\n",
            "+------+-----+\n",
            "|female|  233|\n",
            "|  male|  109|\n",
            "+------+-----+\n",
            "\n"
          ]
        }
      ],
      "source": [
        "#\n",
        "titanic.filter(titanic.Survived==1).groupBy(\"Sex\").count().show()"
      ]
    },
    {
      "cell_type": "code",
      "execution_count": null,
      "id": "1cda0367",
      "metadata": {
        "id": "1cda0367",
        "outputId": "d8c04f5d-e7ed-4131-ca71-6edb30ff9642"
      },
      "outputs": [
        {
          "name": "stdout",
          "output_type": "stream",
          "text": [
            "+------+--------+-----+\n",
            "|   Sex|Survived|count|\n",
            "+------+--------+-----+\n",
            "|  male|       0|  468|\n",
            "|female|       1|  233|\n",
            "|female|       0|   81|\n",
            "|  male|       1|  109|\n",
            "+------+--------+-----+\n",
            "\n"
          ]
        }
      ],
      "source": [
        "#\n",
        "titanic.groupBy(\"Sex\", \"Survived\").count().show()"
      ]
    },
    {
      "cell_type": "markdown",
      "id": "1c53e467",
      "metadata": {
        "id": "1c53e467"
      },
      "source": [
        "<font size='4'>GroupBy Pclass and sum of Fare</font>"
      ]
    },
    {
      "cell_type": "code",
      "execution_count": null,
      "id": "522e78f7",
      "metadata": {
        "id": "522e78f7",
        "outputId": "54e1bbe2-3be1-49c2-ecbf-27c39ef9fe41"
      },
      "outputs": [
        {
          "name": "stdout",
          "output_type": "stream",
          "text": [
            "+------+------------------+\n",
            "|Pclass|         sum(Fare)|\n",
            "+------+------------------+\n",
            "|     1|18177.412499999984|\n",
            "|     3| 6714.695100000002|\n",
            "|     2|3801.8416999999995|\n",
            "+------+------------------+\n",
            "\n"
          ]
        }
      ],
      "source": [
        "#\n",
        "titanic.groupBy(\"Pclass\").sum(\"Fare\").show()"
      ]
    },
    {
      "cell_type": "markdown",
      "id": "12c0a195",
      "metadata": {
        "id": "12c0a195"
      },
      "source": [
        "<font size='4'>Update column age values as 1,2,3 ->child<10, teen>10 to <25, adult>25</font>"
      ]
    },
    {
      "cell_type": "code",
      "execution_count": null,
      "id": "a735be3f",
      "metadata": {
        "id": "a735be3f",
        "outputId": "694a2445-a178-4b57-e60c-0e0c586ba962"
      },
      "outputs": [
        {
          "name": "stdout",
          "output_type": "stream",
          "text": [
            "+--------+\n",
            "|max(Age)|\n",
            "+--------+\n",
            "|    80.0|\n",
            "+--------+\n",
            "\n"
          ]
        }
      ],
      "source": [
        "titanic.agg({'Age': 'max'}).show()"
      ]
    },
    {
      "cell_type": "code",
      "execution_count": null,
      "id": "aab2a7f6",
      "metadata": {
        "id": "aab2a7f6",
        "outputId": "aafeb5c7-3ed3-412f-e5a0-3f176d5a5d6d"
      },
      "outputs": [
        {
          "name": "stdout",
          "output_type": "stream",
          "text": [
            "+-----------+--------+------+--------------------+------+-----+-----+-----+----------------+-------+-----+--------+\n",
            "|PassengerId|Survived|Pclass|                Name|   Sex|  Age|SibSp|Parch|          Ticket|   Fare|Cabin|Embarked|\n",
            "+-----------+--------+------+--------------------+------+-----+-----+-----+----------------+-------+-----+--------+\n",
            "|          1|       0|     3|Braund, Mr. Owen ...|  male| Teen|    1|    0|       A/5 21171|   7.25| null|       S|\n",
            "|          2|       1|     1|Cumings, Mrs. Joh...|female|Adult|    1|    0|        PC 17599|71.2833|  C85|       C|\n",
            "|          3|       1|     3|Heikkinen, Miss. ...|female|Adult|    0|    0|STON/O2. 3101282|  7.925| null|       S|\n",
            "|          4|       1|     1|Futrelle, Mrs. Ja...|female|Adult|    1|    0|          113803|   53.1| C123|       S|\n",
            "|          5|       0|     3|Allen, Mr. Willia...|  male|Adult|    0|    0|          373450|   8.05| null|       S|\n",
            "|          6|       0|     3|    Moran, Mr. James|  male| null|    0|    0|          330877| 8.4583| null|       Q|\n",
            "|          7|       0|     1|McCarthy, Mr. Tim...|  male|Adult|    0|    0|           17463|51.8625|  E46|       S|\n",
            "|          8|       0|     3|Palsson, Master. ...|  male|Child|    3|    1|          349909| 21.075| null|       S|\n",
            "|          9|       1|     3|Johnson, Mrs. Osc...|female|Adult|    0|    2|          347742|11.1333| null|       S|\n",
            "|         10|       1|     2|Nasser, Mrs. Nich...|female| Teen|    1|    0|          237736|30.0708| null|       C|\n",
            "|         11|       1|     3|Sandstrom, Miss. ...|female|Child|    1|    1|         PP 9549|   16.7|   G6|       S|\n",
            "|         12|       1|     1|Bonnell, Miss. El...|female|Adult|    0|    0|          113783|  26.55| C103|       S|\n",
            "|         13|       0|     3|Saundercock, Mr. ...|  male| Teen|    0|    0|       A/5. 2151|   8.05| null|       S|\n",
            "|         14|       0|     3|Andersson, Mr. An...|  male|Adult|    1|    5|          347082| 31.275| null|       S|\n",
            "|         15|       0|     3|Vestrom, Miss. Hu...|female| Teen|    0|    0|          350406| 7.8542| null|       S|\n",
            "|         16|       1|     2|Hewlett, Mrs. (Ma...|female|Adult|    0|    0|          248706|   16.0| null|       S|\n",
            "|         17|       0|     3|Rice, Master. Eugene|  male|Child|    4|    1|          382652| 29.125| null|       Q|\n",
            "|         18|       1|     2|Williams, Mr. Cha...|  male| null|    0|    0|          244373|   13.0| null|       S|\n",
            "|         19|       0|     3|Vander Planke, Mr...|female|Adult|    1|    0|          345763|   18.0| null|       S|\n",
            "|         20|       1|     3|Masselmani, Mrs. ...|female| null|    0|    0|            2649|  7.225| null|       C|\n",
            "+-----------+--------+------+--------------------+------+-----+-----+-----+----------------+-------+-----+--------+\n",
            "only showing top 20 rows\n",
            "\n"
          ]
        }
      ],
      "source": [
        "titanic = titanic.withColumn(\"Age\", titanic['Age'].cast(\"int\"))\n",
        "titanic = titanic.withColumn(\"Age\", titanic['Age'].cast(\"string\"))\n",
        "for i in range(25,81):\n",
        "    titanic = titanic.withColumn('Age', regexp_replace('Age', str(i), 'Adult'))\n",
        "for i in range(10,25):\n",
        "    titanic = titanic.withColumn('Age', regexp_replace('Age', str(i), 'Teen'))\n",
        "for i in range(0,10):\n",
        "    titanic = titanic.withColumn('Age', regexp_replace('Age', str(i), 'Child'))\n",
        "titanic.show()"
      ]
    },
    {
      "cell_type": "markdown",
      "id": "816c0a43",
      "metadata": {
        "id": "816c0a43"
      },
      "source": [
        "<font size='4'>GroupBy age,Embarked,Pclass and count of survived</font>"
      ]
    },
    {
      "cell_type": "code",
      "execution_count": null,
      "id": "5c49985f",
      "metadata": {
        "id": "5c49985f",
        "outputId": "239e749a-6322-44ad-c144-da3b6d83c71e"
      },
      "outputs": [
        {
          "name": "stdout",
          "output_type": "stream",
          "text": [
            "+-----+--------+------+-----+\n",
            "|  Age|Embarked|Pclass|count|\n",
            "+-----+--------+------+-----+\n",
            "|Adult|       S|     1|   49|\n",
            "| Teen|       S|     2|   15|\n",
            "| Teen|       Q|     3|    5|\n",
            "|Adult|       Q|     2|    1|\n",
            "|Adult|       Q|     3|    1|\n",
            "|Child|       C|     2|    2|\n",
            "| Teen|       S|     3|   18|\n",
            "|Child|       C|     3|    6|\n",
            "| Teen|       S|     1|   15|\n",
            "|Adult|       C|     2|    2|\n",
            "|Child|       S|     2|   15|\n",
            "|Child|       S|     3|   13|\n",
            "|Adult|       C|     3|    3|\n",
            "| Teen|       C|     1|   14|\n",
            "|Adult|       Q|     1|    1|\n",
            "|Child|       S|     1|    2|\n",
            "|Adult|       S|     2|   44|\n",
            "| Teen|       C|     2|    4|\n",
            "|Adult|       C|     1|   39|\n",
            "| Teen|       C|     3|    9|\n",
            "+-----+--------+------+-----+\n",
            "only showing top 20 rows\n",
            "\n"
          ]
        }
      ],
      "source": [
        "titanic.filter(titanic.Survived==1).groupBy(\"Age\", \"Embarked\", \"Pclass\").count().show()"
      ]
    },
    {
      "cell_type": "markdown",
      "id": "c6ebf73b",
      "metadata": {
        "id": "c6ebf73b"
      },
      "source": [
        "<font size='4'><b>iii.Load: Save analysis report df</b></font>"
      ]
    },
    {
      "cell_type": "code",
      "execution_count": null,
      "id": "98f7a307",
      "metadata": {
        "id": "98f7a307"
      },
      "outputs": [],
      "source": [
        "titanic.write.option(\"header\",True).partitionBy(\"Sex\").mode(\"overwrite\").csv('./output')"
      ]
    }
  ],
  "metadata": {
    "kernelspec": {
      "display_name": "Python 3 (ipykernel)",
      "language": "python",
      "name": "python3"
    },
    "language_info": {
      "codemirror_mode": {
        "name": "ipython",
        "version": 3
      },
      "file_extension": ".py",
      "mimetype": "text/x-python",
      "name": "python",
      "nbconvert_exporter": "python",
      "pygments_lexer": "ipython3",
      "version": "3.9.7"
    },
    "colab": {
      "name": "Group-10_Titanic.ipynb",
      "provenance": [],
      "collapsed_sections": []
    }
  },
  "nbformat": 4,
  "nbformat_minor": 5
}